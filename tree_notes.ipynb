{
 "cells": [
  {
   "cell_type": "code",
   "execution_count": 1,
   "metadata": {
    "collapsed": false
   },
   "outputs": [
    {
     "data": {
      "text/plain": [
       "array([1, 0, 0, 1, 1])"
      ]
     },
     "execution_count": 1,
     "metadata": {},
     "output_type": "execute_result"
    }
   ],
   "source": [
    "from sklearn import tree\n",
    "import numpy as np\n",
    "import copy\n",
    "import math\n",
    "\n",
    "#transform categoric values to 0,1,..etc\n",
    "def transform(data_to_transform):\n",
    "    set_value = sorted(list(set(data_to_transform)))\n",
    "    dictionary={}\n",
    "    for i in range(len(set_value)):\n",
    "        dictionary[set_value[i]]=i\n",
    "    #sebelum\n",
    "    print(data_to_transform)\n",
    "    for i in range(len(data_to_transform)):\n",
    "        data_to_transform[i]=dictionary[data_to_transform[i]]\n",
    "    print(data_to_transform)\n",
    "    return data_to_transform\n",
    "\n",
    "#transform continuous values tp 0,1,..etc\n",
    "def transform_num(data_to_transform):\n",
    "    square = [ float(x)**2 for x in list(data_to_transform/1000)]\n",
    "    square = math.sqrt(sum(square))\n",
    "    data_to_transform2 = data_to_transform/square\n",
    "    print(data_to_transform)\n",
    "    print(data_to_transform2)\n",
    "    return data_to_transform2\n",
    "    \n",
    "\n",
    "#Dummy\n",
    "X=[[0,0], [1,1]]\n",
    "Y=[0,1]\n",
    "clf = tree.DecisionTreeClassifier()\n",
    "clf = clf.fit(X,Y)\n",
    "clf.predict([[1,1],[0,0],[-2,-1],[2,2],[3,3]])\n",
    "#the result give insight that data <=0 class==0 and vice versa"
   ]
  },
  {
   "cell_type": "code",
   "execution_count": 2,
   "metadata": {
    "collapsed": false
   },
   "outputs": [
    {
     "name": "stdout",
     "output_type": "stream",
     "text": [
      "['sunny' 'sunny' 'overcast' 'rain' 'rain' 'rain' 'overcast' 'sunny' 'sunny'\n",
      " 'rain' 'sunny' 'overcast' 'overcast' 'rain']\n",
      "['2' '2' '0' '1' '1' '1' '0' '2' '2' '1' '2' '0' '0' '1']\n",
      "['hot' 'hot' 'hot' 'mild' 'cool' 'cool' 'cool' 'mild' 'cool' 'mild' 'mild'\n",
      " 'mild' 'hot' 'mild']\n",
      "['1' '1' '1' '2' '0' '0' '0' '2' '0' '2' '2' '2' '1' '2']\n",
      "['high' 'high' 'high' 'high' 'normal' 'normal' 'normal' 'high' 'normal'\n",
      " 'normal' 'normal' 'high' 'normal' 'high']\n",
      "['0' '0' '0' '0' '1' '1' '1' '0' '1' '1' '1' '0' '1' '0']\n",
      "['weak' 'strong' 'weak' 'weak' 'weak' 'strong' 'strong' 'weak' 'weak'\n",
      " 'weak' 'strong' 'strong' 'weak' 'strong']\n",
      "['1' '0' '1' '1' '1' '0' '0' '1' '1' '1' '0' '0' '1' '0']\n",
      "['no' 'no' 'yes' 'yes' 'yes' 'no' 'yes' 'no' 'yes' 'yes' 'yes' 'yes' 'yes'\n",
      " 'no']\n",
      "['0' '0' '1' '1' '1' '0' '1' '0' '1' '1' '1' '1' '1' '0']\n"
     ]
    }
   ],
   "source": [
    "#let's dealt with real data\n",
    "data_loc = \"E:\\\\UserTA\\\\5112100086\\\\Dropbox\\\\[PENTING TIDAK URGENT]\\\\[ARSIP KULIAH]\\\\Semester 9\\\\Asistensi KK E\\\\datakelas.txt\"\n",
    "with open(data_loc,\"r\") as f:\n",
    "    data=[]\n",
    "    for x in f.readlines():\n",
    "        temp = x.strip().split(\"\\t\")\n",
    "        data.append(temp)\n",
    "data = np.array(data)\n",
    "names = data[0,:]; data=data[1:,:]\n",
    "m_record, n_feature = np.shape(data)\n",
    "data_transformed = copy.deepcopy(data)\n",
    "\n",
    "#transform to discrete, except continuous bring to int\n",
    "exception=[]\n",
    "for i in range(n_feature):\n",
    "    if i in exception:\n",
    "        data_to_transform = data[:,i].astype(int)\n",
    "        data_transformed[:,i] = transform_num(data_to_transform)\n",
    "    else:\n",
    "        data_to_transform = data[:,i]\n",
    "        data_transformed[:,i] = transform(data_to_transform)"
   ]
  },
  {
   "cell_type": "code",
   "execution_count": 3,
   "metadata": {
    "collapsed": true
   },
   "outputs": [],
   "source": [
    "Y = data[:,-1]\n",
    "X = data[:,:n_feature-1] \n",
    "clf = tree.DecisionTreeClassifier()\n",
    "clf = clf.fit(X,Y)\n",
    "tree.export_graphviz(clf, out_file='tree2.dot', feature_names=names)\n",
    "#check script graphviz dari \"tree2.dot\"\n",
    "\n",
    "#digraph Tree {\n",
    "#0 [label=\"outlook <= 0.5000\\ngini = 0.459183673469\\nsamples = 14\", shape=\"box\"] ;\n",
    "#1 [label=\"gini = 0.0000\\nsamples = 4\\nvalue = [ 0.  4.]\", shape=\"box\"] ;\n",
    "#0 -> 1 ;\n",
    "#2 [label=\"humidity <= 0.5000\\ngini = 0.5\\nsamples = 10\", shape=\"box\"] ;\n",
    "#0 -> 2 ;\n",
    "#3 [label=\"outlook <= 1.5000\\ngini = 0.32\\nsamples = 5\", shape=\"box\"] ;\n",
    "#2 -> 3 ;\n",
    "#4 [label=\"wind <= 0.5000\\ngini = 0.5\\nsamples = 2\", shape=\"box\"] ;\n",
    "#3 -> 4 ;\n",
    "#5 [label=\"gini = 0.0000\\nsamples = 1\\nvalue = [ 1.  0.]\", shape=\"box\"] ;\n",
    "#4 -> 5 ;\n",
    "#6 [label=\"gini = 0.0000\\nsamples = 1\\nvalue = [ 0.  1.]\", shape=\"box\"] ;\n",
    "#4 -> 6 ;\n",
    "#7 [label=\"gini = 0.0000\\nsamples = 3\\nvalue = [ 3.  0.]\", shape=\"box\"] ;\n",
    "#3 -> 7 ;\n",
    "#8 [label=\"wind <= 0.5000\\ngini = 0.32\\nsamples = 5\", shape=\"box\"] ;\n",
    "#2 -> 8 ;\n",
    "#9 [label=\"outlook <= 1.5000\\ngini = 0.5\\nsamples = 2\", shape=\"box\"] ;\n",
    "#8 -> 9 ;\n",
    "#10 [label=\"gini = 0.0000\\nsamples = 1\\nvalue = [ 1.  0.]\", shape=\"box\"] ;\n",
    "#9 -> 10 ;\n",
    "#11 [label=\"gini = 0.0000\\nsamples = 1\\nvalue = [ 0.  1.]\", shape=\"box\"] ;\n",
    "#9 -> 11 ;\n",
    "#12 [label=\"gini = 0.0000\\nsamples = 3\\nvalue = [ 0.  3.]\", shape=\"box\"] ;\n",
    "#8 -> 12 ;\n",
    "#}\n",
    "\n",
    "#go to http://sandbox.kidstrythisathome.com/erdos/, copy paste the script"
   ]
  },
  {
   "cell_type": "code",
   "execution_count": null,
   "metadata": {
    "collapsed": true
   },
   "outputs": [],
   "source": []
  }
 ],
 "metadata": {
  "kernelspec": {
   "display_name": "Python 3",
   "language": "python",
   "name": "python3"
  },
  "language_info": {
   "codemirror_mode": {
    "name": "ipython",
    "version": 3
   },
   "file_extension": ".py",
   "mimetype": "text/x-python",
   "name": "python",
   "nbconvert_exporter": "python",
   "pygments_lexer": "ipython3",
   "version": "3.4.5"
  }
 },
 "nbformat": 4,
 "nbformat_minor": 0
}
